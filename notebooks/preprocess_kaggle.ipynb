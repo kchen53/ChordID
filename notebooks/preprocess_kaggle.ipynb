{
 "cells": [
  {
   "cell_type": "markdown",
   "id": "ff5eef3f-9678-4205-a273-bf05afa0673a",
   "metadata": {},
   "source": [
    "# Import Dependencies"
   ]
  },
  {
   "cell_type": "code",
   "execution_count": 1,
   "id": "ecf9fea6-87db-404d-8d92-dc2727ff934d",
   "metadata": {},
   "outputs": [],
   "source": [
    "import os\n",
    "import shutil"
   ]
  },
  {
   "cell_type": "markdown",
   "id": "06cabff2-13b4-4a60-af0a-1babe541e52a",
   "metadata": {},
   "source": [
    "# Load Kaggle Dataset"
   ]
  },
  {
   "cell_type": "code",
   "execution_count": 2,
   "id": "4533629d-c720-4b45-8f46-82edf8d5df64",
   "metadata": {},
   "outputs": [
    {
     "name": "stdout",
     "output_type": "stream",
     "text": [
      "Dataset URL: https://www.kaggle.com/datasets/fabianavinci/guitar-chords-v3\n",
      "License(s): unknown\n",
      "Downloading guitar-chords-v3.zip to /home/sihala/ChordID/data\n",
      "100%|███████████████████████████████████████▉| 728M/729M [00:30<00:00, 18.7MB/s]\n",
      "100%|████████████████████████████████████████| 729M/729M [00:30<00:00, 24.7MB/s]\n"
     ]
    }
   ],
   "source": [
    "kaggle_token_path = os.path.dirname(os.getcwd())+\"/token\"\n",
    "data_path = os.path.dirname(os.getcwd())+\"/data\"\n",
    "os.environ[\"KAGGLE_CONFIG_DIR\"] = kaggle_token_path\n",
    "os.chmod(kaggle_token_path+\"/kaggle.json\", 0o600)\n",
    "import kaggle\n",
    "\n",
    "current_dir = os.getcwd()\n",
    "os.chdir(data_path)\n",
    "if \"Training\" not in os.listdir(data_path):\n",
    "    !kaggle datasets download -d fabianavinci/guitar-chords-v3 --unzip"
   ]
  },
  {
   "cell_type": "code",
   "execution_count": 3,
   "id": "849e2c94-ca3d-4b0d-9e2c-f0ce648897f0",
   "metadata": {},
   "outputs": [],
   "source": [
    "#Merge the Test and Training folders for now, we'll do a split later on\n",
    "test_dir = os.path.join(data_path, \"Test\")\n",
    "train_dir = os.path.join(data_path, \"Training\")\n",
    "shutil.copytree(test_dir, train_dir, dirs_exist_ok=True)\n",
    "shutil.rmtree(test_dir)"
   ]
  },
  {
   "cell_type": "code",
   "execution_count": 4,
   "id": "0dbdc883-c4bd-49a2-a872-357b486512e3",
   "metadata": {},
   "outputs": [],
   "source": [
    "os.rename(train_dir, os.path.join(data_path, \"Kaggle_data\"))"
   ]
  },
  {
   "cell_type": "markdown",
   "id": "0e5965c7-1c56-4d48-816c-39fb17d1c43f",
   "metadata": {},
   "source": [
    "# Split into Train and Test"
   ]
  },
  {
   "cell_type": "code",
   "execution_count": 5,
   "id": "ad707fc0-910a-4f6d-bf22-831a5e4b7217",
   "metadata": {},
   "outputs": [
    {
     "name": "stdout",
     "output_type": "stream",
     "text": [
      "(1408, 2)\n",
      "(352, 2)\n"
     ]
    }
   ],
   "source": [
    "from sklearn.model_selection import train_test_split\n",
    "import pandas as pd\n",
    "file_list = []\n",
    "\n",
    "kaggle_path = os.path.join(data_path, \"Kaggle_data\")\n",
    "for chord_label in os.listdir(kaggle_path):\n",
    "    label_path = os.path.join(kaggle_path, chord_label)\n",
    "    if os.path.isdir(label_path):\n",
    "        for file_name in os.listdir(label_path):\n",
    "            file_path = os.path.join(label_path, file_name)\n",
    "            file_list.append((file_path, chord_label))\n",
    "\n",
    "df = pd.DataFrame(file_list, columns=['file_path', 'chord_label'])\n",
    "\n",
    "train_paths, test_paths = train_test_split(df, train_size=0.8, stratify=df['chord_label'])\n",
    "print(train_paths.shape)\n",
    "print(test_paths.shape)"
   ]
  },
  {
   "cell_type": "markdown",
   "id": "989672cc-6bdc-4009-bf42-d511e4815d20",
   "metadata": {},
   "source": [
    "# Move Train and Test files to their respective folders"
   ]
  },
  {
   "cell_type": "code",
   "execution_count": 6,
   "id": "107d379c-d16b-4b31-9693-73cd8bce97d3",
   "metadata": {},
   "outputs": [],
   "source": [
    "train_dir_path = os.path.join(data_path, \"Train\")\n",
    "test_dir_path = os.path.join(data_path, \"Test\")\n",
    "\n",
    "def move_files(paths_df, split_dir_path):\n",
    "    \n",
    "    if not os.path.isdir(split_dir_path):\n",
    "        os.makedirs(split_dir_path)\n",
    "        \n",
    "    for file in paths_df.iterrows():\n",
    "        path = file[1]['file_path']\n",
    "        file_name = os.path.basename(path)\n",
    "        label = file[1]['chord_label']\n",
    "        label_dir_path = os.path.join(split_dir_path, label)\n",
    "        \n",
    "        if not os.path.isdir(label_dir_path):\n",
    "            os.makedirs(label_dir_path)\n",
    "        file_output_path = os.path.join(label_dir_path, file_name)\n",
    "        shutil.copy(path, file_output_path)\n",
    "\n",
    "\n",
    "move_files(train_paths, train_dir_path)\n",
    "move_files(test_paths, test_dir_path)    "
   ]
  }
 ],
 "metadata": {
  "kernelspec": {
   "display_name": "chord_env",
   "language": "python",
   "name": "chord_env"
  },
  "language_info": {
   "codemirror_mode": {
    "name": "ipython",
    "version": 3
   },
   "file_extension": ".py",
   "mimetype": "text/x-python",
   "name": "python",
   "nbconvert_exporter": "python",
   "pygments_lexer": "ipython3",
   "version": "3.8.10"
  }
 },
 "nbformat": 4,
 "nbformat_minor": 5
}
