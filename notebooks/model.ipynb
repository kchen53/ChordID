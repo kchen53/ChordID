{
 "cells": [
  {
   "cell_type": "markdown",
   "id": "256a9376-dd17-4dbf-bd86-e388a36284cd",
   "metadata": {},
   "source": [
    "# Import dependencies"
   ]
  },
  {
   "cell_type": "code",
   "execution_count": 3,
   "id": "220ddbb4-0648-4ceb-9a7b-b9a641e5718d",
   "metadata": {},
   "outputs": [],
   "source": [
    "import os\n",
    "import torch\n",
    "import torchaudio\n",
    "import numpy as np\n",
    "from torch import nn\n",
    "from torch.utils.data import Dataset, DataLoader\n",
    "from torchaudio.transforms import MFCC"
   ]
  },
  {
   "cell_type": "code",
   "execution_count": 4,
   "id": "b4a0827b-35f5-4b50-990a-20ed975128e5",
   "metadata": {},
   "outputs": [],
   "source": [
    "data_path = os.path.dirname(os.getcwd())+\"/data\"\n",
    "os.chdir(data_path)\n",
    "chord_labels = os.listdir(os.path.join(data_path, \"Train\"))"
   ]
  },
  {
   "cell_type": "markdown",
   "id": "0964dc3d-9487-4a95-a2dd-4cff000c73b2",
   "metadata": {},
   "source": [
    "# Define a custom Dataset in PyTorch"
   ]
  },
  {
   "cell_type": "code",
   "execution_count": 8,
   "id": "4863e1f7-3ad3-460c-9fae-1c52277de0a1",
   "metadata": {},
   "outputs": [],
   "source": [
    "from sklearn.preprocessing import LabelEncoder\n",
    "\n",
    "class WAVDataset(Dataset):\n",
    "    def __init__(self, data_dir, audio_sample_rate):\n",
    "        self.data_dir = data_dir\n",
    "        self.sampling_rate = audio_sample_rate\n",
    "        #Tune n_mels, default is 128\n",
    "        self.transform = MFCC(sample_rate=audio_sample_rate, n_mfcc=13, melkwargs={\"n_mels\": 64, \"n_fft\":400})\n",
    "        \n",
    "        #Store file paths and target labels\n",
    "        self.files = []\n",
    "        self.labels = []\n",
    "        self.encoded_labels = []\n",
    "\n",
    "        # Walk through the directories to get audio file paths and labels\n",
    "        for label in os.listdir(data_dir):\n",
    "            label_dir = os.path.join(data_dir, label)\n",
    "            if os.path.isdir(label_dir):\n",
    "                for audio_file in os.listdir(label_dir):\n",
    "                    if audio_file.endswith('.wav'):\n",
    "                        audio_file_path = os.path.join(label_dir, audio_file)\n",
    "                        self.files.append(audio_file_path)\n",
    "                        self.labels.append(label)\n",
    "\n",
    "        #One-hot encode string labels as tensors\n",
    "        le = LabelEncoder()\n",
    "        self.encoded_labels = le.fit_transform(self.labels)\n",
    "        self.encoded_labels = torch.from_numpy(self.encoded_labels)\n",
    "        self.encoded_labels = torch.nn.functional.one_hot(self.encoded_labels)\n",
    "        \n",
    "\n",
    "    \n",
    "    def __len__(self):\n",
    "        return len(self.files)\n",
    "\n",
    "    def __getitem__(self, idx):\n",
    "        audio_path = self.files[idx]\n",
    "        label = self.encoded_labels[idx]\n",
    "        #Extract MFCC data from audio\n",
    "        waveform, audio_sample_rate = torchaudio.load(audio_path)\n",
    "        \n",
    "\n",
    "        #Some files are mono (1 channel), duplicate channel if so\n",
    "        if waveform.shape[0] == 1:\n",
    "            waveform = waveform.repeat(2,1)\n",
    "  \n",
    "        waveform_MFCC = self.transform(waveform)\n",
    "\n",
    "        #Input shapes need to be the same, take the average coefficient over time intervals, should output a tensor of shape (2, n_mfcc)\n",
    "        waveform_MFCC = torch.mean(waveform_MFCC, dim=2)\n",
    "        \n",
    "        return waveform_MFCC, label"
   ]
  },
  {
   "cell_type": "code",
   "execution_count": 10,
   "id": "8e19ec48-bf82-4ff9-879f-29478772543f",
   "metadata": {},
   "outputs": [],
   "source": [
    "# Define paths\n",
    "train_dir = os.path.join(data_path, \"Train\")\n",
    "test_dir = os.path.join(data_path, \"Test\")\n",
    "\n",
    "# Create instances of custom dataset\n",
    "train_dataset = WAVDataset(data_dir=train_dir, audio_sample_rate=16000)\n",
    "test_dataset = WAVDataset(data_dir=test_dir, audio_sample_rate=16000)\n",
    "\n",
    "# Create DataLoaders\n",
    "train_loader = DataLoader(train_dataset, batch_size=32, shuffle=True)\n",
    "test_loader = DataLoader(test_dataset, batch_size=32, shuffle=False)"
   ]
  },
  {
   "cell_type": "code",
   "execution_count": 11,
   "id": "036ea6f8-d34d-409d-bbea-701552c4916e",
   "metadata": {},
   "outputs": [
    {
     "ename": "IndentationError",
     "evalue": "expected an indented block (435473637.py, line 16)",
     "output_type": "error",
     "traceback": [
      "\u001b[0;36m  Cell \u001b[0;32mIn[11], line 16\u001b[0;36m\u001b[0m\n\u001b[0;31m    model_0 = ChordClassifier().to(device)\u001b[0m\n\u001b[0m                                          ^\u001b[0m\n\u001b[0;31mIndentationError\u001b[0m\u001b[0;31m:\u001b[0m expected an indented block\n"
     ]
    }
   ],
   "source": [
    "#Set GPU or CPU\n",
    "device = \"cuda\" if torch.cuda.is_available() else \"cpu\"\n",
    "\n",
    "\n",
    "class ChordClassifier(nn.Module):\n",
    "    def __init__(self):\n",
    "        super().__init__()\n",
    "        \n",
    "        \n",
    "    \n",
    "    # 3. Define a forward method containing the forward pass computation\n",
    "    def forward(self, x):\n",
    "       \n",
    "\n",
    "# 4. Create an instance of the model and send it to target device\n",
    "model_0 = ChordClassifier().to(device)\n",
    "model_0"
   ]
  }
 ],
 "metadata": {
  "kernelspec": {
   "display_name": "chord_env",
   "language": "python",
   "name": "chord_env"
  },
  "language_info": {
   "codemirror_mode": {
    "name": "ipython",
    "version": 3
   },
   "file_extension": ".py",
   "mimetype": "text/x-python",
   "name": "python",
   "nbconvert_exporter": "python",
   "pygments_lexer": "ipython3",
   "version": "3.8.10"
  }
 },
 "nbformat": 4,
 "nbformat_minor": 5
}
