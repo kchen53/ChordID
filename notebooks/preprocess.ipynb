{
 "cells": [
  {
   "cell_type": "markdown",
   "id": "421a3867-da39-494b-8167-5371aac479b0",
   "metadata": {},
   "source": [
    "# Import Dependencies"
   ]
  },
  {
   "cell_type": "code",
   "execution_count": 8,
   "id": "b8463761-9dca-4f3c-836e-41ddd618bdd5",
   "metadata": {},
   "outputs": [
    {
     "name": "stdout",
     "output_type": "stream",
     "text": [
      "Collecting kaggle\n",
      "  Downloading kaggle-1.6.17.tar.gz (82 kB)\n",
      "\u001b[K     |████████████████████████████████| 82 kB 991 kB/s eta 0:00:011\n",
      "\u001b[?25hRequirement already satisfied: bleach in /home/sihala/.local/lib/python3.8/site-packages (from kaggle) (6.1.0)\n",
      "Collecting certifi>=2023.7.22\n",
      "  Downloading certifi-2024.8.30-py3-none-any.whl (167 kB)\n",
      "\u001b[K     |████████████████████████████████| 167 kB 3.0 MB/s eta 0:00:01\n",
      "\u001b[?25hRequirement already satisfied: python-dateutil in /home/sihala/.local/lib/python3.8/site-packages (from kaggle) (2.9.0.post0)\n",
      "Collecting python-slugify\n",
      "  Downloading python_slugify-8.0.4-py2.py3-none-any.whl (10 kB)\n",
      "Requirement already satisfied: requests in /home/sihala/.local/lib/python3.8/site-packages (from kaggle) (2.31.0)\n",
      "Requirement already satisfied: six>=1.10 in /usr/lib/python3/dist-packages (from kaggle) (1.14.0)\n",
      "Requirement already satisfied: tqdm in /home/sihala/.local/lib/python3.8/site-packages (from kaggle) (4.53.0)\n",
      "Requirement already satisfied: urllib3 in /usr/lib/python3/dist-packages (from kaggle) (1.25.8)\n",
      "Requirement already satisfied: webencodings in /usr/lib/python3/dist-packages (from bleach->kaggle) (0.5.1)\n",
      "Collecting text-unidecode>=1.3\n",
      "  Downloading text_unidecode-1.3-py2.py3-none-any.whl (78 kB)\n",
      "\u001b[K     |████████████████████████████████| 78 kB 1.6 MB/s eta 0:00:01\n",
      "\u001b[?25hRequirement already satisfied: idna<4,>=2.5 in /usr/lib/python3/dist-packages (from requests->kaggle) (2.8)\n",
      "Requirement already satisfied: charset-normalizer<4,>=2 in /home/sihala/.local/lib/python3.8/site-packages (from requests->kaggle) (3.3.1)\n",
      "Building wheels for collected packages: kaggle\n",
      "  Building wheel for kaggle (setup.py) ... \u001b[?25ldone\n",
      "\u001b[?25h  Created wheel for kaggle: filename=kaggle-1.6.17-py3-none-any.whl size=105790 sha256=ec28a7f82c9739311a9fbd40f3c8031ce9725c595175a3f367fa4f2bcf958f35\n",
      "  Stored in directory: /home/sihala/.cache/pip/wheels/a5/6f/7b/837915771e94e181fa3052822926444e34f725ca38e70be77e\n",
      "Successfully built kaggle\n",
      "Installing collected packages: certifi, text-unidecode, python-slugify, kaggle\n",
      "Successfully installed certifi-2024.8.30 kaggle-1.6.17 python-slugify-8.0.4 text-unidecode-1.3\n"
     ]
    }
   ],
   "source": [
    "import os\n",
    "import kaggle"
   ]
  },
  {
   "cell_type": "markdown",
   "id": "2b432f32-1cf9-4578-b617-f57bfe5b74c3",
   "metadata": {},
   "source": [
    "# Load Kaggle Dataset"
   ]
  },
  {
   "cell_type": "code",
   "execution_count": 88,
   "id": "d67cdcd5-4f12-4a13-91a1-848fbf6755bb",
   "metadata": {},
   "outputs": [
    {
     "name": "stdout",
     "output_type": "stream",
     "text": [
      "Dataset URL: https://www.kaggle.com/datasets/fabianavinci/guitar-chords-v3\n",
      "License(s): unknown\n",
      "Downloading guitar-chords-v3.zip to /home/sihala/ChordID/data\n",
      " 33%|█████████████▎                          | 242M/729M [00:04<00:08, 61.1MB/s]^C\n",
      " 33%|█████████████▎                          | 243M/729M [00:04<00:08, 58.1MB/s]\n",
      "User cancelled operation\n"
     ]
    }
   ],
   "source": [
    "kaggle_token_path = os.path.dirname(os.getcwd())+\"/token\"\n",
    "data_path = os.path.dirname(os.getcwd())+\"/data\"\n",
    "os.environ[\"KAGGLE_CONFIG_DIR\"] = kaggle_token_path\n",
    "os.chmod(kaggle_token_path+\"/kaggle.json\", 0o600)\n",
    "\n",
    "\n",
    "\n",
    "current_dir = os.getcwd()\n",
    "os.chdir(data_path)\n",
    "!kaggle datasets download -d fabianavinci/guitar-chords-v3 --unzip\n",
    "os.chdir(current_dir)"
   ]
  },
  {
   "cell_type": "markdown",
   "id": "b15764ed-d57f-44da-8fe2-7a640982c7f8",
   "metadata": {},
   "source": [
    "# Load IDMT-SMT Guitar Dataset"
   ]
  },
  {
   "cell_type": "code",
   "execution_count": 91,
   "id": "aea87803-5664-44f3-9d92-8b3e2fa24c56",
   "metadata": {},
   "outputs": [
    {
     "name": "stderr",
     "output_type": "stream",
     "text": [
      "100%|██████████████████████████████████████| 1.31G/1.31G [13:14<00:00, 1.64MB/s]\n"
     ]
    }
   ],
   "source": [
    "import requests\n",
    "from tqdm import tqdm\n",
    "\n",
    "os.chdir(data_path)\n",
    "url = (\"https://zenodo.org/records/7544213/files/IDMT-SMT-CHORDS.zip?download=1\")\n",
    "download_zip = \"IDMT-SMT-CHORDS.zip\"\n",
    "\n",
    "if download_zip not in os.listdir(data_path):\n",
    "    response = requests.get(url, stream=True)\n",
    "    \n",
    "    # Sizes in bytes.\n",
    "    total_size = int(response.headers.get(\"content-length\", 0))\n",
    "    block_size = 1024\n",
    "    \n",
    "    with tqdm(total=total_size, unit=\"B\", unit_scale=True) as progress_bar:\n",
    "        with open(download_zip, \"wb\") as file:\n",
    "            for data in response.iter_content(block_size):\n",
    "                progress_bar.update(len(data))\n",
    "                file.write(data)\n",
    "    \n",
    "    if total_size != 0 and progress_bar.n != total_size:\n",
    "        raise RuntimeError(\"Could not download file\")\n",
    "        \n"
   ]
  },
  {
   "cell_type": "code",
   "execution_count": 92,
   "id": "906754d4-50e7-4df4-8a14-52cbd1a28d12",
   "metadata": {},
   "outputs": [
    {
     "name": "stderr",
     "output_type": "stream",
     "text": [
      "Extracting files: 100%|███████████████████████| 24/24 [00:08<00:00,  2.86file/s]\n"
     ]
    }
   ],
   "source": [
    "import zipfile\n",
    "\n",
    "file_path = '../data/{}'.format(download_zip)\n",
    "extract_path = '../data/{}'.format(\"IDMT\")\n",
    "\n",
    "\n",
    "with zipfile.ZipFile(file_path, 'r') as zip_ref:\n",
    "    files = zip_ref.namelist()\n",
    "\n",
    "    for file in tqdm(files, desc=\"Extracting files\", unit = \"file\"):\n",
    "        zip_ref.extract(file, extract_path)"
   ]
  },
  {
   "cell_type": "markdown",
   "id": "dd5e8c8e-48a9-47f6-b31b-aa5ab60498bc",
   "metadata": {},
   "source": [
    "# Get only guitar audio and remove other unnecessary files"
   ]
  },
  {
   "cell_type": "code",
   "execution_count": 93,
   "id": "46bf3471-ad73-43e6-9b77-36d2de4b2865",
   "metadata": {},
   "outputs": [],
   "source": [
    "import shutil\n",
    "\n",
    "guitar_data_path = extract_path+\"/IDMT-SMT-CHORDS/guitar\"\n",
    "\n",
    "if os.path.exists(guitar_data_path):\n",
    "    shutil.move(guitar_data_path, extract_path)\n",
    "\n",
    "if os.path.exists(extract_path+\"/IDMT-SMT-CHORDS\"):\n",
    "    shutil.rmtree(extract_path+\"/IDMT-SMT-CHORDS\")"
   ]
  },
  {
   "cell_type": "markdown",
   "id": "b80ccb36-423d-4c15-86f7-34ce36985764",
   "metadata": {},
   "source": [
    "# Re-sample IDMT audio to match the sample rate of the Kaggle dataset"
   ]
  },
  {
   "cell_type": "code",
   "execution_count": 94,
   "id": "71deaef0-ca55-416c-a24b-14df83b906f5",
   "metadata": {},
   "outputs": [],
   "source": [
    "#The IDMT audio has a sample rate of 44.1 kHz, while the Kaggle dataset is only 16 kHz. \n",
    "#We can re-sample the higher rate files and bring them down to match the other dataset.\n",
    "import librosa\n",
    "import soundfile as sf\n",
    "\n",
    "guitar_path = extract_path + \"/guitar\"\n",
    "\n",
    "\n",
    "# Load the audio file at its original sample rate\n",
    "original_sample_rate = 44100\n",
    "target_sample_rate = 16000\n",
    "\n",
    "\n",
    "#Loop through and resampe .wav files\n",
    "for filename in os.listdir(guitar_path):\n",
    "    file_path = os.path.join(guitar_path, filename)\n",
    "    if os.path.isfile(file_path) and '.wav' in file_path:\n",
    "        audio_data, sr = librosa.load(file_path, sr=original_sample_rate)\n",
    "        audio_resampled = librosa.resample(audio_data, orig_sr=sr, target_sr=target_sample_rate)\n",
    "        sf.write(guitar_path+'/resampled_{}'.format(filename), audio_resampled, target_sample_rate)\n",
    "        os.remove(file_path)"
   ]
  },
  {
   "cell_type": "code",
   "execution_count": 114,
   "id": "fc994e01-ac88-40ea-8871-bc271dd58f68",
   "metadata": {},
   "outputs": [],
   "source": [
    "#Rename files to remove unnecessary details\n",
    "for filename in os.listdir(guitar_path):\n",
    "    chord_data_path = os.path.join(guitar_path, filename)\n",
    "    if os.path.isfile(chord_data_path) and '.wav' in chord_data_path:\n",
    "        new_name = filename.replace(\"_ableton_live_guitar\", \"\")\n",
    "        new_name = filename.replace(\"_garageband_guitar\", \"\")\n",
    "        new_name = filename.replace(\"resampled_\", \"\")\n",
    "        os.rename(chord_data_path, os.path.join(guitar_path, new_name))"
   ]
  },
  {
   "cell_type": "markdown",
   "id": "ed8e0329-b617-4d72-8436-4c8cec85392f",
   "metadata": {},
   "source": [
    "# Associate audio timestamps with chord labels"
   ]
  },
  {
   "cell_type": "code",
   "execution_count": 113,
   "id": "ad5ba331-f024-46bd-a795-74765c1b3300",
   "metadata": {},
   "outputs": [],
   "source": [
    "timestamp_mappings = {}\n",
    "with open(guitar_path+\"/guitar_annotation.lab\", 'r') as file:\n",
    "    for line in file:\n",
    "        start, end, chord = line.split()\n",
    "        timestamp_mappings[end] = chord"
   ]
  },
  {
   "cell_type": "markdown",
   "id": "65abdff9-c9ad-4961-8499-3233b879855c",
   "metadata": {},
   "source": [
    "# Split audio into individual chord clips"
   ]
  },
  {
   "cell_type": "code",
   "execution_count": 129,
   "id": "11e3ff9a-1a5e-4ca8-b34a-244d6524a31f",
   "metadata": {},
   "outputs": [],
   "source": [
    "from scipy.io import wavfile\n",
    "\n",
    "def split_audio_file(input_file_name: str, input_dir_path: str):\n",
    "    start_split = 0\n",
    "    split_at_timestamp = 2\n",
    "    rate, data = wavfile.read(os.path.join(input_dir_path, input_file_name)) \n",
    "    duration = len(data)//rate\n",
    "    num_clips = duration // 2\n",
    "    \n",
    "    \n",
    "    for i in range(num_clips):    \n",
    "    \n",
    "        # get the frame to split at\n",
    "        split_at_frame = rate * split_at_timestamp\n",
    "        start_at_frame = rate *start_split\n",
    "    \n",
    "        # split\n",
    "        left_data = data[start_at_frame:split_at_frame-1]\n",
    "    \n",
    "        # save the result\n",
    "        output_dir = os.path.join(input_dir_path, \"split\")\n",
    "        if not os.path.isdir(output_dir):\n",
    "            os.makedirs(output_dir)\n",
    "                             \n",
    "        original_file_name = input_file_name.replace('.wav','')\n",
    "        output_name = \"{}_{}.wav\".format(original_file_name, split_at_timestamp)\n",
    "        \n",
    "        wavfile.write(os.path.join(output_dir,output_name), rate, left_data)\n",
    "        start_split+=2\n",
    "        split_at_timestamp+=2"
   ]
  },
  {
   "cell_type": "code",
   "execution_count": 130,
   "id": "d652d9a4-ecea-4034-9e9b-1787e0a0a480",
   "metadata": {},
   "outputs": [],
   "source": [
    "for filename in os.listdir(guitar_path):\n",
    "    chord_data_path = os.path.join(guitar_path, filename)\n",
    "    if os.path.isfile(chord_data_path) and '.wav' in chord_data_path:\n",
    "        split_audio_file(filename, guitar_path)"
   ]
  }
 ],
 "metadata": {
  "kernelspec": {
   "display_name": "chord_env",
   "language": "python",
   "name": "chord_env"
  },
  "language_info": {
   "codemirror_mode": {
    "name": "ipython",
    "version": 3
   },
   "file_extension": ".py",
   "mimetype": "text/x-python",
   "name": "python",
   "nbconvert_exporter": "python",
   "pygments_lexer": "ipython3",
   "version": "3.8.10"
  }
 },
 "nbformat": 4,
 "nbformat_minor": 5
}
